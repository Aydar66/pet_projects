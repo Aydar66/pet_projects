{
 "cells": [
  {
   "cell_type": "code",
   "execution_count": 71,
   "id": "15713bc0-fe6f-4a3e-8835-2dca5579cada",
   "metadata": {},
   "outputs": [],
   "source": [
    "import numpy as np\n",
    "import pandas as pd\n",
    "from statsmodels.formula.api import logit, probit\n",
    "\n",
    "\n",
    "# Не показывать FutureWarnings\n",
    "import warnings\n",
    "warnings.simplefilter(action='ignore', category=FutureWarning)\n",
    "# Не показывать ValueWarning, ConvergenceWarning из statsmodels\n",
    "from statsmodels.tools.sm_exceptions import ValueWarning, ConvergenceWarning\n",
    "warnings.simplefilter('ignore', category=ValueWarning)\n",
    "warnings.simplefilter('ignore', category=ConvergenceWarning)"
   ]
  },
  {
   "cell_type": "markdown",
   "id": "abbeb3c2-12a9-45b6-9d8f-e9b9a48fcee6",
   "metadata": {},
   "source": [
    "Задача 2.1 (лист 22)"
   ]
  },
  {
   "cell_type": "code",
   "execution_count": 73,
   "id": "0e09bf0b-585d-4e59-980a-06fa210363d2",
   "metadata": {},
   "outputs": [],
   "source": [
    "df = pd.read_csv('loanapp.csv')"
   ]
  },
  {
   "cell_type": "code",
   "execution_count": 75,
   "id": "e4f5df3a-0cab-44aa-bf0a-11c5148dcf2a",
   "metadata": {},
   "outputs": [],
   "source": [
    "pd.set_option('display.max_columns', 70)"
   ]
  },
  {
   "cell_type": "code",
   "execution_count": 77,
   "id": "a5931fe2-8750-4779-825b-96569f2c8730",
   "metadata": {},
   "outputs": [
    {
     "name": "stdout",
     "output_type": "stream",
     "text": [
      "Optimization terminated successfully.\n",
      "         Current function value: 0.363578\n",
      "         Iterations 6\n"
     ]
    }
   ],
   "source": [
    "# mod = logit(formula = '', data = df)\n",
    "mod = probit(formula = 'approve~1+appinc+mortno+unem+dep+male+married+yjob+self', data = df)\n",
    "res = mod.fit()"
   ]
  },
  {
   "cell_type": "code",
   "execution_count": 79,
   "id": "71b9e5d7-b632-4fdf-b05e-322e7bdd5d58",
   "metadata": {},
   "outputs": [
    {
     "data": {
      "text/plain": [
       "Intercept    1.142\n",
       "appinc      -0.001\n",
       "mortno       0.407\n",
       "unem        -0.031\n",
       "dep         -0.083\n",
       "male         0.020\n",
       "married      0.221\n",
       "yjob        -0.001\n",
       "self        -0.158\n",
       "dtype: float64"
      ]
     },
     "execution_count": 79,
     "metadata": {},
     "output_type": "execute_result"
    }
   ],
   "source": [
    "res.params.round(3)\n",
    "# количественно нельзя интерпретировать"
   ]
  },
  {
   "cell_type": "code",
   "execution_count": 81,
   "id": "36bb7164-b10b-4a7a-ba49-57dda0239cb2",
   "metadata": {},
   "outputs": [
    {
     "data": {
      "text/html": [
       "<table class=\"simpletable\">\n",
       "<caption>Probit Regression Results</caption>\n",
       "<tr>\n",
       "  <th>Dep. Variable:</th>        <td>approve</td>     <th>  No. Observations:  </th>  <td>  1971</td>  \n",
       "</tr>\n",
       "<tr>\n",
       "  <th>Model:</th>                <td>Probit</td>      <th>  Df Residuals:      </th>  <td>  1962</td>  \n",
       "</tr>\n",
       "<tr>\n",
       "  <th>Method:</th>                 <td>MLE</td>       <th>  Df Model:          </th>  <td>     8</td>  \n",
       "</tr>\n",
       "<tr>\n",
       "  <th>Date:</th>            <td>Wed, 13 Nov 2024</td> <th>  Pseudo R-squ.:     </th>  <td>0.02895</td> \n",
       "</tr>\n",
       "<tr>\n",
       "  <th>Time:</th>                <td>17:01:08</td>     <th>  Log-Likelihood:    </th> <td> -716.61</td> \n",
       "</tr>\n",
       "<tr>\n",
       "  <th>converged:</th>             <td>True</td>       <th>  LL-Null:           </th> <td> -737.98</td> \n",
       "</tr>\n",
       "<tr>\n",
       "  <th>Covariance Type:</th>     <td>nonrobust</td>    <th>  LLR p-value:       </th> <td>9.865e-07</td>\n",
       "</tr>\n",
       "</table>\n",
       "<table class=\"simpletable\">\n",
       "<tr>\n",
       "      <td></td>         <th>coef</th>     <th>std err</th>      <th>z</th>      <th>P>|z|</th>  <th>[0.025</th>    <th>0.975]</th>  \n",
       "</tr>\n",
       "<tr>\n",
       "  <th>Intercept</th> <td>    1.1418</td> <td>    0.109</td> <td>   10.512</td> <td> 0.000</td> <td>    0.929</td> <td>    1.355</td>\n",
       "</tr>\n",
       "<tr>\n",
       "  <th>appinc</th>    <td>   -0.0005</td> <td>    0.000</td> <td>   -1.375</td> <td> 0.169</td> <td>   -0.001</td> <td>    0.000</td>\n",
       "</tr>\n",
       "<tr>\n",
       "  <th>mortno</th>    <td>    0.4071</td> <td>    0.087</td> <td>    4.703</td> <td> 0.000</td> <td>    0.237</td> <td>    0.577</td>\n",
       "</tr>\n",
       "<tr>\n",
       "  <th>unem</th>      <td>   -0.0308</td> <td>    0.016</td> <td>   -1.909</td> <td> 0.056</td> <td>   -0.062</td> <td>    0.001</td>\n",
       "</tr>\n",
       "<tr>\n",
       "  <th>dep</th>       <td>   -0.0828</td> <td>    0.035</td> <td>   -2.355</td> <td> 0.019</td> <td>   -0.152</td> <td>   -0.014</td>\n",
       "</tr>\n",
       "<tr>\n",
       "  <th>male</th>      <td>    0.0200</td> <td>    0.099</td> <td>    0.201</td> <td> 0.841</td> <td>   -0.175</td> <td>    0.215</td>\n",
       "</tr>\n",
       "<tr>\n",
       "  <th>married</th>   <td>    0.2208</td> <td>    0.086</td> <td>    2.552</td> <td> 0.011</td> <td>    0.051</td> <td>    0.390</td>\n",
       "</tr>\n",
       "<tr>\n",
       "  <th>yjob</th>      <td>   -0.0007</td> <td>    0.035</td> <td>   -0.020</td> <td> 0.984</td> <td>   -0.069</td> <td>    0.068</td>\n",
       "</tr>\n",
       "<tr>\n",
       "  <th>self</th>      <td>   -0.1583</td> <td>    0.107</td> <td>   -1.483</td> <td> 0.138</td> <td>   -0.367</td> <td>    0.051</td>\n",
       "</tr>\n",
       "</table>"
      ],
      "text/latex": [
       "\\begin{center}\n",
       "\\begin{tabular}{lclc}\n",
       "\\toprule\n",
       "\\textbf{Dep. Variable:}   &     approve      & \\textbf{  No. Observations:  } &     1971    \\\\\n",
       "\\textbf{Model:}           &      Probit      & \\textbf{  Df Residuals:      } &     1962    \\\\\n",
       "\\textbf{Method:}          &       MLE        & \\textbf{  Df Model:          } &        8    \\\\\n",
       "\\textbf{Date:}            & Wed, 13 Nov 2024 & \\textbf{  Pseudo R-squ.:     } &  0.02895    \\\\\n",
       "\\textbf{Time:}            &     17:01:08     & \\textbf{  Log-Likelihood:    } &   -716.61   \\\\\n",
       "\\textbf{converged:}       &       True       & \\textbf{  LL-Null:           } &   -737.98   \\\\\n",
       "\\textbf{Covariance Type:} &    nonrobust     & \\textbf{  LLR p-value:       } & 9.865e-07   \\\\\n",
       "\\bottomrule\n",
       "\\end{tabular}\n",
       "\\begin{tabular}{lcccccc}\n",
       "                   & \\textbf{coef} & \\textbf{std err} & \\textbf{z} & \\textbf{P$> |$z$|$} & \\textbf{[0.025} & \\textbf{0.975]}  \\\\\n",
       "\\midrule\n",
       "\\textbf{Intercept} &       1.1418  &        0.109     &    10.512  &         0.000        &        0.929    &        1.355     \\\\\n",
       "\\textbf{appinc}    &      -0.0005  &        0.000     &    -1.375  &         0.169        &       -0.001    &        0.000     \\\\\n",
       "\\textbf{mortno}    &       0.4071  &        0.087     &     4.703  &         0.000        &        0.237    &        0.577     \\\\\n",
       "\\textbf{unem}      &      -0.0308  &        0.016     &    -1.909  &         0.056        &       -0.062    &        0.001     \\\\\n",
       "\\textbf{dep}       &      -0.0828  &        0.035     &    -2.355  &         0.019        &       -0.152    &       -0.014     \\\\\n",
       "\\textbf{male}      &       0.0200  &        0.099     &     0.201  &         0.841        &       -0.175    &        0.215     \\\\\n",
       "\\textbf{married}   &       0.2208  &        0.086     &     2.552  &         0.011        &        0.051    &        0.390     \\\\\n",
       "\\textbf{yjob}      &      -0.0007  &        0.035     &    -0.020  &         0.984        &       -0.069    &        0.068     \\\\\n",
       "\\textbf{self}      &      -0.1583  &        0.107     &    -1.483  &         0.138        &       -0.367    &        0.051     \\\\\n",
       "\\bottomrule\n",
       "\\end{tabular}\n",
       "%\\caption{Probit Regression Results}\n",
       "\\end{center}"
      ],
      "text/plain": [
       "<class 'statsmodels.iolib.summary.Summary'>\n",
       "\"\"\"\n",
       "                          Probit Regression Results                           \n",
       "==============================================================================\n",
       "Dep. Variable:                approve   No. Observations:                 1971\n",
       "Model:                         Probit   Df Residuals:                     1962\n",
       "Method:                           MLE   Df Model:                            8\n",
       "Date:                Wed, 13 Nov 2024   Pseudo R-squ.:                 0.02895\n",
       "Time:                        17:01:08   Log-Likelihood:                -716.61\n",
       "converged:                       True   LL-Null:                       -737.98\n",
       "Covariance Type:            nonrobust   LLR p-value:                 9.865e-07\n",
       "==============================================================================\n",
       "                 coef    std err          z      P>|z|      [0.025      0.975]\n",
       "------------------------------------------------------------------------------\n",
       "Intercept      1.1418      0.109     10.512      0.000       0.929       1.355\n",
       "appinc        -0.0005      0.000     -1.375      0.169      -0.001       0.000\n",
       "mortno         0.4071      0.087      4.703      0.000       0.237       0.577\n",
       "unem          -0.0308      0.016     -1.909      0.056      -0.062       0.001\n",
       "dep           -0.0828      0.035     -2.355      0.019      -0.152      -0.014\n",
       "male           0.0200      0.099      0.201      0.841      -0.175       0.215\n",
       "married        0.2208      0.086      2.552      0.011       0.051       0.390\n",
       "yjob          -0.0007      0.035     -0.020      0.984      -0.069       0.068\n",
       "self          -0.1583      0.107     -1.483      0.138      -0.367       0.051\n",
       "==============================================================================\n",
       "\"\"\""
      ]
     },
     "execution_count": 81,
     "metadata": {},
     "output_type": "execute_result"
    }
   ],
   "source": [
    "res.summary()"
   ]
  },
  {
   "cell_type": "markdown",
   "id": "7db9c4e2-ddfa-483b-992d-50fb1490752d",
   "metadata": {},
   "source": [
    "Задача 2.2."
   ]
  },
  {
   "cell_type": "code",
   "execution_count": 84,
   "id": "dad800cb-11ad-4c2c-9916-0127c420a241",
   "metadata": {},
   "outputs": [
    {
     "name": "stdout",
     "output_type": "stream",
     "text": [
      "Optimization terminated successfully.\n",
      "         Current function value: 0.363490\n",
      "         Iterations 7\n"
     ]
    }
   ],
   "source": [
    "mod = logit(formula = 'approve~1+appinc+mortno+unem+dep+male+married+yjob+self', data = df)\n",
    "# mod = probit(formula = 'approve~1+appinc+mortno+unem+dep+male+married+yjob+self', data = df)\n",
    "res = mod.fit()"
   ]
  },
  {
   "cell_type": "code",
   "execution_count": 86,
   "id": "0a2f6491-4f51-49ed-81ab-4c642b3dff5b",
   "metadata": {},
   "outputs": [
    {
     "data": {
      "text/plain": [
       "Intercept    1.931\n",
       "appinc      -0.001\n",
       "mortno       0.787\n",
       "unem        -0.055\n",
       "dep         -0.161\n",
       "male         0.030\n",
       "married      0.425\n",
       "yjob        -0.006\n",
       "self        -0.280\n",
       "dtype: float64"
      ]
     },
     "execution_count": 86,
     "metadata": {},
     "output_type": "execute_result"
    }
   ],
   "source": [
    "res.params.round(3)\n",
    "# при логите можно интепретировать кэфы количественно\n",
    "# unem+1 > 5.5% уменьшится отношение"
   ]
  },
  {
   "cell_type": "markdown",
   "id": "ca7493ec-01a4-45e2-a97c-b7317e12c425",
   "metadata": {},
   "source": [
    "Задача 3.1"
   ]
  },
  {
   "cell_type": "code",
   "execution_count": 89,
   "id": "f3d60465-e74a-4690-bf7f-321535362a91",
   "metadata": {},
   "outputs": [],
   "source": [
    "from statsmodels.iolib.summary2 import summary_params # вывод результатов тестирования\n",
    "\n",
    "from scipy.stats import norm # критические значения гауссова распределения"
   ]
  },
  {
   "cell_type": "code",
   "execution_count": 91,
   "id": "380f50d7-2c5f-4809-a738-08359f32d144",
   "metadata": {},
   "outputs": [
    {
     "name": "stdout",
     "output_type": "stream",
     "text": [
      "Optimization terminated successfully.\n",
      "         Current function value: 0.363578\n",
      "         Iterations 6\n"
     ]
    }
   ],
   "source": [
    "mod = probit(formula = 'approve~1+appinc+mortno+unem+dep+male+married+yjob+self', data = df)\n",
    "res = mod.fit()"
   ]
  },
  {
   "cell_type": "code",
   "execution_count": 93,
   "id": "0a8bdf1f-1d2e-4f65-ad35-da98206c9fce",
   "metadata": {},
   "outputs": [
    {
     "data": {
      "text/html": [
       "<div>\n",
       "<style scoped>\n",
       "    .dataframe tbody tr th:only-of-type {\n",
       "        vertical-align: middle;\n",
       "    }\n",
       "\n",
       "    .dataframe tbody tr th {\n",
       "        vertical-align: top;\n",
       "    }\n",
       "\n",
       "    .dataframe thead th {\n",
       "        text-align: right;\n",
       "    }\n",
       "</style>\n",
       "<table border=\"1\" class=\"dataframe\">\n",
       "  <thead>\n",
       "    <tr style=\"text-align: right;\">\n",
       "      <th></th>\n",
       "      <th>Coef.</th>\n",
       "      <th>Std.Err.</th>\n",
       "      <th>t</th>\n",
       "      <th>P&gt;|t|</th>\n",
       "      <th>[0.05</th>\n",
       "      <th>0.95]</th>\n",
       "    </tr>\n",
       "  </thead>\n",
       "  <tbody>\n",
       "    <tr>\n",
       "      <th>Intercept</th>\n",
       "      <td>1.142</td>\n",
       "      <td>0.109</td>\n",
       "      <td>10.512</td>\n",
       "      <td>0.000</td>\n",
       "      <td>0.963</td>\n",
       "      <td>1.320</td>\n",
       "    </tr>\n",
       "    <tr>\n",
       "      <th>appinc</th>\n",
       "      <td>-0.001</td>\n",
       "      <td>0.000</td>\n",
       "      <td>-1.375</td>\n",
       "      <td>0.169</td>\n",
       "      <td>-0.001</td>\n",
       "      <td>0.000</td>\n",
       "    </tr>\n",
       "    <tr>\n",
       "      <th>mortno</th>\n",
       "      <td>0.407</td>\n",
       "      <td>0.087</td>\n",
       "      <td>4.703</td>\n",
       "      <td>0.000</td>\n",
       "      <td>0.265</td>\n",
       "      <td>0.550</td>\n",
       "    </tr>\n",
       "    <tr>\n",
       "      <th>unem</th>\n",
       "      <td>-0.031</td>\n",
       "      <td>0.016</td>\n",
       "      <td>-1.909</td>\n",
       "      <td>0.056</td>\n",
       "      <td>-0.057</td>\n",
       "      <td>-0.004</td>\n",
       "    </tr>\n",
       "    <tr>\n",
       "      <th>dep</th>\n",
       "      <td>-0.083</td>\n",
       "      <td>0.035</td>\n",
       "      <td>-2.355</td>\n",
       "      <td>0.019</td>\n",
       "      <td>-0.141</td>\n",
       "      <td>-0.025</td>\n",
       "    </tr>\n",
       "    <tr>\n",
       "      <th>male</th>\n",
       "      <td>0.020</td>\n",
       "      <td>0.099</td>\n",
       "      <td>0.201</td>\n",
       "      <td>0.841</td>\n",
       "      <td>-0.144</td>\n",
       "      <td>0.184</td>\n",
       "    </tr>\n",
       "    <tr>\n",
       "      <th>married</th>\n",
       "      <td>0.221</td>\n",
       "      <td>0.086</td>\n",
       "      <td>2.552</td>\n",
       "      <td>0.011</td>\n",
       "      <td>0.078</td>\n",
       "      <td>0.363</td>\n",
       "    </tr>\n",
       "    <tr>\n",
       "      <th>yjob</th>\n",
       "      <td>-0.001</td>\n",
       "      <td>0.035</td>\n",
       "      <td>-0.020</td>\n",
       "      <td>0.984</td>\n",
       "      <td>-0.058</td>\n",
       "      <td>0.057</td>\n",
       "    </tr>\n",
       "    <tr>\n",
       "      <th>self</th>\n",
       "      <td>-0.158</td>\n",
       "      <td>0.107</td>\n",
       "      <td>-1.483</td>\n",
       "      <td>0.138</td>\n",
       "      <td>-0.334</td>\n",
       "      <td>0.017</td>\n",
       "    </tr>\n",
       "  </tbody>\n",
       "</table>\n",
       "</div>"
      ],
      "text/plain": [
       "           Coef.  Std.Err.       t  P>|t|  [0.05  0.95]\n",
       "Intercept  1.142     0.109  10.512  0.000  0.963  1.320\n",
       "appinc    -0.001     0.000  -1.375  0.169 -0.001  0.000\n",
       "mortno     0.407     0.087   4.703  0.000  0.265  0.550\n",
       "unem      -0.031     0.016  -1.909  0.056 -0.057 -0.004\n",
       "dep       -0.083     0.035  -2.355  0.019 -0.141 -0.025\n",
       "male       0.020     0.099   0.201  0.841 -0.144  0.184\n",
       "married    0.221     0.086   2.552  0.011  0.078  0.363\n",
       "yjob      -0.001     0.035  -0.020  0.984 -0.058  0.057\n",
       "self      -0.158     0.107  -1.483  0.138 -0.334  0.017"
      ]
     },
     "execution_count": 93,
     "metadata": {},
     "output_type": "execute_result"
    }
   ],
   "source": [
    "summary_params(res, alpha=0.1).round(3)"
   ]
  },
  {
   "cell_type": "code",
   "execution_count": 99,
   "id": "34e3b828-9418-40b0-a9e5-5b1d64d61417",
   "metadata": {},
   "outputs": [
    {
     "data": {
      "text/plain": [
       "1.6448536269514729"
      ]
     },
     "execution_count": 99,
     "metadata": {},
     "output_type": "execute_result"
    }
   ],
   "source": [
    "sign_level = 0.1\n",
    "norm.isf(q=sign_level/2)"
   ]
  },
  {
   "cell_type": "markdown",
   "id": "f24067a0-e033-431c-be3d-2de50e5af47f",
   "metadata": {},
   "source": [
    "Задача 2.3"
   ]
  },
  {
   "cell_type": "code",
   "execution_count": 16,
   "id": "9627f115-d175-4145-9aaf-e5137a2373b4",
   "metadata": {},
   "outputs": [],
   "source": [
    "import os"
   ]
  },
  {
   "cell_type": "code",
   "execution_count": 17,
   "id": "4493355f-3dbb-4557-b33d-b21233e279bf",
   "metadata": {},
   "outputs": [
    {
     "data": {
      "text/plain": [
       "['.ipynb_checkpoints',\n",
       " 'data-description.md',\n",
       " 'ecm.zip',\n",
       " 'loanapp.csv',\n",
       " 'logit.ipynb',\n",
       " 'LPM.ipynb',\n",
       " 'SwissLabor.csv',\n",
       " 'TableF5-1.csv',\n",
       " 'контрольная 1',\n",
       " 'контрольная 1.ipynb']"
      ]
     },
     "execution_count": 17,
     "metadata": {},
     "output_type": "execute_result"
    }
   ],
   "source": [
    "os.listdir()"
   ]
  },
  {
   "cell_type": "code",
   "execution_count": 18,
   "id": "605d9d47-a85a-4dd9-8a47-12c69adc3ba2",
   "metadata": {},
   "outputs": [
    {
     "name": "stdout",
     "output_type": "stream",
     "text": [
      "Optimization terminated successfully.\n",
      "         Current function value: 0.613998\n",
      "         Iterations 5\n"
     ]
    },
    {
     "data": {
      "text/plain": [
       "Intercept        -2.005\n",
       "WA                0.008\n",
       "np.square(WA)    -0.001\n",
       "WE                0.109\n",
       "KL6              -0.851\n",
       "K618             -0.063\n",
       "CIT              -0.128\n",
       "UN               -0.011\n",
       "np.log(FAMINC)    0.200\n",
       "dtype: float64"
      ]
     },
     "execution_count": 18,
     "metadata": {},
     "output_type": "execute_result"
    }
   ],
   "source": [
    "df = pd.read_csv('TableF5-1.csv')\n",
    "\n",
    "mod = probit(formula = 'LFP~1+WA+np.square(WA)+WE+KL6+K618+CIT+UN+np.log(FAMINC)', data = df)\n",
    "res = mod.fit()\n",
    "res.params.round(3)"
   ]
  },
  {
   "cell_type": "code",
   "execution_count": 19,
   "id": "8165445a-2e9e-49a9-8856-c6090600381c",
   "metadata": {},
   "outputs": [
    {
     "name": "stdout",
     "output_type": "stream",
     "text": [
      "Optimization terminated successfully.\n",
      "         Current function value: 0.613860\n",
      "         Iterations 5\n"
     ]
    },
    {
     "data": {
      "text/plain": [
       "Intercept        -3.241\n",
       "WA                0.007\n",
       "np.square(WA)    -0.001\n",
       "WE                0.180\n",
       "KL6              -1.414\n",
       "K618             -0.104\n",
       "CIT              -0.217\n",
       "UN               -0.018\n",
       "np.log(FAMINC)    0.333\n",
       "dtype: float64"
      ]
     },
     "execution_count": 19,
     "metadata": {},
     "output_type": "execute_result"
    }
   ],
   "source": [
    "df = pd.read_csv('TableF5-1.csv')\n",
    "\n",
    "mod = logit(formula = 'LFP~1+WA+np.square(WA)+WE+KL6+K618+CIT+UN+np.log(FAMINC)', data = df)\n",
    "res = mod.fit()\n",
    "res.params.round(3)"
   ]
  },
  {
   "cell_type": "code",
   "execution_count": 20,
   "id": "81649207-55f8-469d-aa5f-bcb78ec385a7",
   "metadata": {},
   "outputs": [
    {
     "data": {
      "text/plain": [
       "1.6448536269514729"
      ]
     },
     "execution_count": 20,
     "metadata": {},
     "output_type": "execute_result"
    }
   ],
   "source": [
    "alpha= 0.05\n",
    "norm.isf(q=alpha)"
   ]
  },
  {
   "cell_type": "markdown",
   "id": "7eaaa710-39ec-4578-b0fc-3476a4f14459",
   "metadata": {},
   "source": [
    "Проверка значимости (lr-test-overrall)"
   ]
  },
  {
   "cell_type": "code",
   "execution_count": 22,
   "id": "04308b10-b773-42f6-9c55-094ffb231417",
   "metadata": {},
   "outputs": [],
   "source": [
    "import numpy as np\n",
    "import pandas as pd\n",
    "from statsmodels.formula.api import logit, probit\n",
    "\n",
    "from scipy.stats import chi2 # критические значения chi2-распределения\n",
    "\n",
    "# Не показывать FutureWarnings\n",
    "import warnings\n",
    "warnings.simplefilter(action='ignore', category=FutureWarning)\n",
    "# Не показывать ValueWarning, ConvergenceWarning из statsmodels\n",
    "from statsmodels.tools.sm_exceptions import ValueWarning, ConvergenceWarning\n",
    "warnings.simplefilter('ignore', category=ValueWarning)\n",
    "warnings.simplefilter('ignore', category=ConvergenceWarning)"
   ]
  },
  {
   "cell_type": "code",
   "execution_count": 23,
   "id": "7f011bc5-bdcc-498e-8da6-c70dc570312c",
   "metadata": {},
   "outputs": [],
   "source": [
    "df = pd.read_csv('loanapp.csv')"
   ]
  },
  {
   "cell_type": "markdown",
   "id": "fe42b367-846d-4cd4-b280-355a3099fc79",
   "metadata": {},
   "source": [
    "Спецификация и подгонка"
   ]
  },
  {
   "cell_type": "markdown",
   "id": "5d6b13b3-37dc-4075-ba9c-8a0dd0affb04",
   "metadata": {},
   "source": [
    "Задача 4.1"
   ]
  },
  {
   "cell_type": "code",
   "execution_count": 26,
   "id": "0cdb79b4-8593-4e35-a742-7e54522f56f7",
   "metadata": {},
   "outputs": [
    {
     "name": "stdout",
     "output_type": "stream",
     "text": [
      "Optimization terminated successfully.\n",
      "         Current function value: 0.371879\n",
      "         Iterations 5\n"
     ]
    }
   ],
   "source": [
    "mod = probit(formula = 'approve~1+appinc+unem+male+yjob+self', data = df)\n",
    "# mod = probit(formula = , data = df)\n",
    "res = mod.fit()"
   ]
  },
  {
   "cell_type": "markdown",
   "id": "60b20dfe-2d20-49c5-862a-cba3c2e1b956",
   "metadata": {},
   "source": [
    "1 задание"
   ]
  },
  {
   "cell_type": "code",
   "execution_count": 28,
   "id": "93a12949-f505-434c-b550-23a619dd7617",
   "metadata": {},
   "outputs": [
    {
     "data": {
      "text/plain": [
       "(-734.0891318931042, -738.3754760632596, 1974)"
      ]
     },
     "execution_count": 28,
     "metadata": {},
     "output_type": "execute_result"
    }
   ],
   "source": [
    "res.llf, res.llnull, res.nobs"
   ]
  },
  {
   "cell_type": "markdown",
   "id": "7cd32eaa-ba17-4946-b0c6-673f373ca56f",
   "metadata": {},
   "source": [
    "2 задание - Вычислите тестовую статистику."
   ]
  },
  {
   "cell_type": "code",
   "execution_count": 30,
   "id": "106c7fbe-fd3d-4a54-9b2c-e91a45679a8e",
   "metadata": {},
   "outputs": [
    {
     "data": {
      "text/plain": [
       "(8.572688340310833, 0.12737082908746525)"
      ]
     },
     "execution_count": 30,
     "metadata": {},
     "output_type": "execute_result"
    }
   ],
   "source": [
    "res.llr, res.llr_pvalue"
   ]
  },
  {
   "cell_type": "markdown",
   "id": "b07c4ce1-5659-493f-95b6-bf4df64f7f2b",
   "metadata": {},
   "source": [
    "p_value > alpha (0.10) - регрессия незначима"
   ]
  },
  {
   "cell_type": "markdown",
   "id": "b9b20d64-5ce1-454f-aebe-4c3dd085c212",
   "metadata": {},
   "source": [
    "3 задание - Вычислите критическое значение"
   ]
  },
  {
   "cell_type": "code",
   "execution_count": 33,
   "id": "2ca0b000-ab81-4b8c-b0bc-b45762f54cc9",
   "metadata": {},
   "outputs": [
    {
     "data": {
      "text/plain": [
       "9.236356899781116"
      ]
     },
     "execution_count": 33,
     "metadata": {},
     "output_type": "execute_result"
    }
   ],
   "source": [
    "sign_level = 0.10\n",
    "chi2.isf(q=sign_level, df=res.df_model)"
   ]
  },
  {
   "cell_type": "markdown",
   "id": "aeae4494-4123-443b-94e0-b06d783208e3",
   "metadata": {},
   "source": [
    "4 задание"
   ]
  },
  {
   "cell_type": "markdown",
   "id": "78687ecb-7e8c-4be5-a479-194a5c20b221",
   "metadata": {},
   "source": [
    "res.summary()"
   ]
  },
  {
   "cell_type": "markdown",
   "id": "d775103c-3682-41c4-966c-fec72a9ffdb8",
   "metadata": {},
   "source": [
    "p у intercept и unem меньше 0.1, они значимы"
   ]
  },
  {
   "cell_type": "markdown",
   "id": "c7902bca-545c-43a0-9b40-8aa6f9452c53",
   "metadata": {},
   "source": [
    "**4.2 задача**"
   ]
  },
  {
   "cell_type": "code",
   "execution_count": 38,
   "id": "f4535438-f9a2-43fe-9449-b4cf7c645c56",
   "metadata": {},
   "outputs": [
    {
     "name": "stdout",
     "output_type": "stream",
     "text": [
      "Optimization terminated successfully.\n",
      "         Current function value: 0.362116\n",
      "         Iterations 7\n"
     ]
    }
   ],
   "source": [
    "mod = logit(formula = 'approve~1+appinc+np.square(appinc)+mortno+unem+male+dep+yjob+married+self', data = df)\n",
    "# mod = probit(formula = , data = df)\n",
    "res = mod.fit()"
   ]
  },
  {
   "cell_type": "markdown",
   "id": "c7d0a643-0a95-4003-afd6-bbdd27107a25",
   "metadata": {},
   "source": [
    "1 задание"
   ]
  },
  {
   "cell_type": "code",
   "execution_count": 40,
   "id": "a8343b37-6c44-4fbc-8e7b-17dfae08120b",
   "metadata": {},
   "outputs": [
    {
     "data": {
      "text/plain": [
       "(1971, -737.9793325459353, -713.7313316223181)"
      ]
     },
     "execution_count": 40,
     "metadata": {},
     "output_type": "execute_result"
    }
   ],
   "source": [
    "res.nobs, res.llnull, res.llf"
   ]
  },
  {
   "cell_type": "markdown",
   "id": "0a3fd8c6-7789-492c-8aaf-a8c7c326fd9a",
   "metadata": {},
   "source": [
    "2 задание - Вычислите тестовую статистику. Ответ округлите до 3-х десятичных знаков."
   ]
  },
  {
   "cell_type": "code",
   "execution_count": 42,
   "id": "1f5a4dd3-e4e7-402a-a56e-c03fc9d07534",
   "metadata": {},
   "outputs": [
    {
     "data": {
      "text/plain": [
       "48.496"
      ]
     },
     "execution_count": 42,
     "metadata": {},
     "output_type": "execute_result"
    }
   ],
   "source": [
    "res.llr.round(3)"
   ]
  },
  {
   "cell_type": "markdown",
   "id": "9714139f-6400-4fce-8e69-ff6c688ed930",
   "metadata": {},
   "source": [
    "3 задание - Вычислите критическое значение. Ответ округлите до 3-х десятичных знаков.\r\n"
   ]
  },
  {
   "cell_type": "code",
   "execution_count": 44,
   "id": "645c3f3f-8d6b-4bba-9eab-418b88610d8c",
   "metadata": {},
   "outputs": [
    {
     "data": {
      "text/plain": [
       "16.919"
      ]
     },
     "execution_count": 44,
     "metadata": {},
     "output_type": "execute_result"
    }
   ],
   "source": [
    "sign_level = 0.05\n",
    "chi2.isf(q=sign_level, df=res.df_model).round(3)"
   ]
  },
  {
   "cell_type": "markdown",
   "id": "95407cbe-0b8a-43dd-aae6-e3914523e1ac",
   "metadata": {},
   "source": [
    "4 задание - Значима ли регрессия? Ответ"
   ]
  },
  {
   "cell_type": "code",
   "execution_count": 46,
   "id": "f381a6d2-5d8b-48a3-bd38-d23411d0ac9c",
   "metadata": {},
   "outputs": [
    {
     "data": {
      "text/plain": [
       "0.0"
      ]
     },
     "execution_count": 46,
     "metadata": {},
     "output_type": "execute_result"
    }
   ],
   "source": [
    "res.llr_pvalue.round(3)"
   ]
  },
  {
   "cell_type": "markdown",
   "id": "38fc7839-e438-4650-a4ac-6feb8c030a9a",
   "metadata": {},
   "source": [
    "Значима, p-value меньше 0.05"
   ]
  },
  {
   "cell_type": "markdown",
   "id": "3d1744e9-e267-4c0b-b027-f369b87f3595",
   "metadata": {},
   "source": [
    "5 задание - Какие коэффициенты значимы?"
   ]
  },
  {
   "cell_type": "code",
   "execution_count": 49,
   "id": "953d0725-704f-4d50-9e03-641ae546035b",
   "metadata": {},
   "outputs": [
    {
     "data": {
      "text/html": [
       "<table class=\"simpletable\">\n",
       "<caption>Logit Regression Results</caption>\n",
       "<tr>\n",
       "  <th>Dep. Variable:</th>        <td>approve</td>     <th>  No. Observations:  </th>  <td>  1971</td>  \n",
       "</tr>\n",
       "<tr>\n",
       "  <th>Model:</th>                 <td>Logit</td>      <th>  Df Residuals:      </th>  <td>  1961</td>  \n",
       "</tr>\n",
       "<tr>\n",
       "  <th>Method:</th>                 <td>MLE</td>       <th>  Df Model:          </th>  <td>     9</td>  \n",
       "</tr>\n",
       "<tr>\n",
       "  <th>Date:</th>            <td>Wed, 13 Nov 2024</td> <th>  Pseudo R-squ.:     </th>  <td>0.03286</td> \n",
       "</tr>\n",
       "<tr>\n",
       "  <th>Time:</th>                <td>17:00:24</td>     <th>  Log-Likelihood:    </th> <td> -713.73</td> \n",
       "</tr>\n",
       "<tr>\n",
       "  <th>converged:</th>             <td>True</td>       <th>  LL-Null:           </th> <td> -737.98</td> \n",
       "</tr>\n",
       "<tr>\n",
       "  <th>Covariance Type:</th>     <td>nonrobust</td>    <th>  LLR p-value:       </th> <td>2.063e-07</td>\n",
       "</tr>\n",
       "</table>\n",
       "<table class=\"simpletable\">\n",
       "<tr>\n",
       "          <td></td>             <th>coef</th>     <th>std err</th>      <th>z</th>      <th>P>|z|</th>  <th>[0.025</th>    <th>0.975]</th>  \n",
       "</tr>\n",
       "<tr>\n",
       "  <th>Intercept</th>         <td>    1.6806</td> <td>    0.228</td> <td>    7.363</td> <td> 0.000</td> <td>    1.233</td> <td>    2.128</td>\n",
       "</tr>\n",
       "<tr>\n",
       "  <th>appinc</th>            <td>    0.0042</td> <td>    0.002</td> <td>    1.724</td> <td> 0.085</td> <td>   -0.001</td> <td>    0.009</td>\n",
       "</tr>\n",
       "<tr>\n",
       "  <th>np.square(appinc)</th> <td>-7.338e-06</td> <td>  3.3e-06</td> <td>   -2.226</td> <td> 0.026</td> <td>-1.38e-05</td> <td>-8.76e-07</td>\n",
       "</tr>\n",
       "<tr>\n",
       "  <th>mortno</th>            <td>    0.7072</td> <td>    0.175</td> <td>    4.042</td> <td> 0.000</td> <td>    0.364</td> <td>    1.050</td>\n",
       "</tr>\n",
       "<tr>\n",
       "  <th>unem</th>              <td>   -0.0498</td> <td>    0.030</td> <td>   -1.685</td> <td> 0.092</td> <td>   -0.108</td> <td>    0.008</td>\n",
       "</tr>\n",
       "<tr>\n",
       "  <th>male</th>              <td>   -0.0207</td> <td>    0.188</td> <td>   -0.110</td> <td> 0.912</td> <td>   -0.388</td> <td>    0.347</td>\n",
       "</tr>\n",
       "<tr>\n",
       "  <th>dep</th>               <td>   -0.1545</td> <td>    0.065</td> <td>   -2.371</td> <td> 0.018</td> <td>   -0.282</td> <td>   -0.027</td>\n",
       "</tr>\n",
       "<tr>\n",
       "  <th>yjob</th>              <td>   -0.0101</td> <td>    0.065</td> <td>   -0.156</td> <td> 0.876</td> <td>   -0.137</td> <td>    0.117</td>\n",
       "</tr>\n",
       "<tr>\n",
       "  <th>married</th>           <td>    0.3977</td> <td>    0.163</td> <td>    2.438</td> <td> 0.015</td> <td>    0.078</td> <td>    0.718</td>\n",
       "</tr>\n",
       "<tr>\n",
       "  <th>self</th>              <td>   -0.3593</td> <td>    0.200</td> <td>   -1.801</td> <td> 0.072</td> <td>   -0.750</td> <td>    0.032</td>\n",
       "</tr>\n",
       "</table>"
      ],
      "text/latex": [
       "\\begin{center}\n",
       "\\begin{tabular}{lclc}\n",
       "\\toprule\n",
       "\\textbf{Dep. Variable:}    &     approve      & \\textbf{  No. Observations:  } &     1971    \\\\\n",
       "\\textbf{Model:}            &      Logit       & \\textbf{  Df Residuals:      } &     1961    \\\\\n",
       "\\textbf{Method:}           &       MLE        & \\textbf{  Df Model:          } &        9    \\\\\n",
       "\\textbf{Date:}             & Wed, 13 Nov 2024 & \\textbf{  Pseudo R-squ.:     } &  0.03286    \\\\\n",
       "\\textbf{Time:}             &     17:00:24     & \\textbf{  Log-Likelihood:    } &   -713.73   \\\\\n",
       "\\textbf{converged:}        &       True       & \\textbf{  LL-Null:           } &   -737.98   \\\\\n",
       "\\textbf{Covariance Type:}  &    nonrobust     & \\textbf{  LLR p-value:       } & 2.063e-07   \\\\\n",
       "\\bottomrule\n",
       "\\end{tabular}\n",
       "\\begin{tabular}{lcccccc}\n",
       "                           & \\textbf{coef} & \\textbf{std err} & \\textbf{z} & \\textbf{P$> |$z$|$} & \\textbf{[0.025} & \\textbf{0.975]}  \\\\\n",
       "\\midrule\n",
       "\\textbf{Intercept}         &       1.6806  &        0.228     &     7.363  &         0.000        &        1.233    &        2.128     \\\\\n",
       "\\textbf{appinc}            &       0.0042  &        0.002     &     1.724  &         0.085        &       -0.001    &        0.009     \\\\\n",
       "\\textbf{np.square(appinc)} &   -7.338e-06  &      3.3e-06     &    -2.226  &         0.026        &    -1.38e-05    &    -8.76e-07     \\\\\n",
       "\\textbf{mortno}            &       0.7072  &        0.175     &     4.042  &         0.000        &        0.364    &        1.050     \\\\\n",
       "\\textbf{unem}              &      -0.0498  &        0.030     &    -1.685  &         0.092        &       -0.108    &        0.008     \\\\\n",
       "\\textbf{male}              &      -0.0207  &        0.188     &    -0.110  &         0.912        &       -0.388    &        0.347     \\\\\n",
       "\\textbf{dep}               &      -0.1545  &        0.065     &    -2.371  &         0.018        &       -0.282    &       -0.027     \\\\\n",
       "\\textbf{yjob}              &      -0.0101  &        0.065     &    -0.156  &         0.876        &       -0.137    &        0.117     \\\\\n",
       "\\textbf{married}           &       0.3977  &        0.163     &     2.438  &         0.015        &        0.078    &        0.718     \\\\\n",
       "\\textbf{self}              &      -0.3593  &        0.200     &    -1.801  &         0.072        &       -0.750    &        0.032     \\\\\n",
       "\\bottomrule\n",
       "\\end{tabular}\n",
       "%\\caption{Logit Regression Results}\n",
       "\\end{center}"
      ],
      "text/plain": [
       "<class 'statsmodels.iolib.summary.Summary'>\n",
       "\"\"\"\n",
       "                           Logit Regression Results                           \n",
       "==============================================================================\n",
       "Dep. Variable:                approve   No. Observations:                 1971\n",
       "Model:                          Logit   Df Residuals:                     1961\n",
       "Method:                           MLE   Df Model:                            9\n",
       "Date:                Wed, 13 Nov 2024   Pseudo R-squ.:                 0.03286\n",
       "Time:                        17:00:24   Log-Likelihood:                -713.73\n",
       "converged:                       True   LL-Null:                       -737.98\n",
       "Covariance Type:            nonrobust   LLR p-value:                 2.063e-07\n",
       "=====================================================================================\n",
       "                        coef    std err          z      P>|z|      [0.025      0.975]\n",
       "-------------------------------------------------------------------------------------\n",
       "Intercept             1.6806      0.228      7.363      0.000       1.233       2.128\n",
       "appinc                0.0042      0.002      1.724      0.085      -0.001       0.009\n",
       "np.square(appinc) -7.338e-06    3.3e-06     -2.226      0.026   -1.38e-05   -8.76e-07\n",
       "mortno                0.7072      0.175      4.042      0.000       0.364       1.050\n",
       "unem                 -0.0498      0.030     -1.685      0.092      -0.108       0.008\n",
       "male                 -0.0207      0.188     -0.110      0.912      -0.388       0.347\n",
       "dep                  -0.1545      0.065     -2.371      0.018      -0.282      -0.027\n",
       "yjob                 -0.0101      0.065     -0.156      0.876      -0.137       0.117\n",
       "married               0.3977      0.163      2.438      0.015       0.078       0.718\n",
       "self                 -0.3593      0.200     -1.801      0.072      -0.750       0.032\n",
       "=====================================================================================\n",
       "\"\"\""
      ]
     },
     "execution_count": 49,
     "metadata": {},
     "output_type": "execute_result"
    }
   ],
   "source": [
    "res.summary()"
   ]
  },
  {
   "cell_type": "markdown",
   "id": "9bf780a4-348d-4057-8b50-f306836f32f9",
   "metadata": {},
   "source": [
    "меньше 0.05 (p-value) - intercept, np.square, mortno, dep, married"
   ]
  },
  {
   "cell_type": "markdown",
   "id": "dfe516eb-1e57-4d7b-b525-5af57b630487",
   "metadata": {},
   "source": [
    "**задача 6.1**"
   ]
  },
  {
   "cell_type": "code",
   "execution_count": 52,
   "id": "495b6727-746e-446e-8f8c-edc78e5233d3",
   "metadata": {},
   "outputs": [],
   "source": [
    "df = pd.read_csv('SwissLabor.csv')"
   ]
  },
  {
   "cell_type": "code",
   "execution_count": 53,
   "id": "6352217e-970b-4108-a3c7-9f3d1427369c",
   "metadata": {},
   "outputs": [],
   "source": [
    "import numpy as np\n",
    "import pandas as pd\n",
    "from statsmodels.formula.api import logit, probit\n",
    "\n",
    "from scipy.stats import chi2 # критические значения chi2-распределения\n",
    "\n",
    "# Не показывать FutureWarnings\n",
    "import warnings\n",
    "warnings.simplefilter(action='ignore', category=FutureWarning)\n",
    "# Не показывать ValueWarning, ConvergenceWarning из statsmodels\n",
    "from statsmodels.tools.sm_exceptions import ValueWarning, ConvergenceWarning\n",
    "warnings.simplefilter('ignore', category=ValueWarning)\n",
    "warnings.simplefilter('ignore', category=ConvergenceWarning)"
   ]
  },
  {
   "cell_type": "code",
   "execution_count": 54,
   "id": "b114c888-5647-4660-98f6-a1f553ba8b6b",
   "metadata": {},
   "outputs": [],
   "source": [
    "df['participation'] = df['participation'].map({\n",
    "    'yes': 1,\n",
    "    'no': 0\n",
    "})"
   ]
  },
  {
   "cell_type": "code",
   "execution_count": 55,
   "id": "6472412d-bb8e-424b-9338-4a7fb47246ab",
   "metadata": {},
   "outputs": [
    {
     "name": "stdout",
     "output_type": "stream",
     "text": [
      "Optimization terminated successfully.\n",
      "         Current function value: 0.583749\n",
      "         Iterations 6\n"
     ]
    }
   ],
   "source": [
    "mod = logit(formula = 'participation~1+income+np.square(income)+age+np.square(age)+youngkids+oldkids+foreign', data = df)\n",
    "# mod = probit(formula = , data = df)\n",
    "res = mod.fit()"
   ]
  },
  {
   "cell_type": "code",
   "execution_count": 56,
   "id": "81464222-cc68-43d9-b2ed-afc3a857431a",
   "metadata": {},
   "outputs": [
    {
     "data": {
      "text/html": [
       "<table class=\"simpletable\">\n",
       "<caption>Logit Regression Results</caption>\n",
       "<tr>\n",
       "  <th>Dep. Variable:</th>     <td>participation</td>  <th>  No. Observations:  </th>  <td>   872</td>  \n",
       "</tr>\n",
       "<tr>\n",
       "  <th>Model:</th>                 <td>Logit</td>      <th>  Df Residuals:      </th>  <td>   864</td>  \n",
       "</tr>\n",
       "<tr>\n",
       "  <th>Method:</th>                 <td>MLE</td>       <th>  Df Model:          </th>  <td>     7</td>  \n",
       "</tr>\n",
       "<tr>\n",
       "  <th>Date:</th>            <td>Wed, 13 Nov 2024</td> <th>  Pseudo R-squ.:     </th>  <td>0.1539</td>  \n",
       "</tr>\n",
       "<tr>\n",
       "  <th>Time:</th>                <td>17:00:24</td>     <th>  Log-Likelihood:    </th> <td> -509.03</td> \n",
       "</tr>\n",
       "<tr>\n",
       "  <th>converged:</th>             <td>True</td>       <th>  LL-Null:           </th> <td> -601.61</td> \n",
       "</tr>\n",
       "<tr>\n",
       "  <th>Covariance Type:</th>     <td>nonrobust</td>    <th>  LLR p-value:       </th> <td>1.579e-36</td>\n",
       "</tr>\n",
       "</table>\n",
       "<table class=\"simpletable\">\n",
       "<tr>\n",
       "          <td></td>             <th>coef</th>     <th>std err</th>      <th>z</th>      <th>P>|z|</th>  <th>[0.025</th>    <th>0.975]</th>  \n",
       "</tr>\n",
       "<tr>\n",
       "  <th>Intercept</th>         <td>   -9.4763</td> <td>   17.245</td> <td>   -0.549</td> <td> 0.583</td> <td>  -43.277</td> <td>   24.324</td>\n",
       "</tr>\n",
       "<tr>\n",
       "  <th>foreign[T.yes]</th>    <td>    1.0728</td> <td>    0.187</td> <td>    5.737</td> <td> 0.000</td> <td>    0.706</td> <td>    1.439</td>\n",
       "</tr>\n",
       "<tr>\n",
       "  <th>income</th>            <td>    1.8753</td> <td>    3.266</td> <td>    0.574</td> <td> 0.566</td> <td>   -4.526</td> <td>    8.277</td>\n",
       "</tr>\n",
       "<tr>\n",
       "  <th>np.square(income)</th> <td>   -0.1377</td> <td>    0.155</td> <td>   -0.887</td> <td> 0.375</td> <td>   -0.442</td> <td>    0.166</td>\n",
       "</tr>\n",
       "<tr>\n",
       "  <th>age</th>               <td>    3.4025</td> <td>    0.687</td> <td>    4.955</td> <td> 0.000</td> <td>    2.057</td> <td>    4.748</td>\n",
       "</tr>\n",
       "<tr>\n",
       "  <th>np.square(age)</th>    <td>   -0.4846</td> <td>    0.085</td> <td>   -5.692</td> <td> 0.000</td> <td>   -0.651</td> <td>   -0.318</td>\n",
       "</tr>\n",
       "<tr>\n",
       "  <th>youngkids</th>         <td>   -1.1813</td> <td>    0.172</td> <td>   -6.858</td> <td> 0.000</td> <td>   -1.519</td> <td>   -0.844</td>\n",
       "</tr>\n",
       "<tr>\n",
       "  <th>oldkids</th>           <td>   -0.2471</td> <td>    0.084</td> <td>   -2.932</td> <td> 0.003</td> <td>   -0.412</td> <td>   -0.082</td>\n",
       "</tr>\n",
       "</table>"
      ],
      "text/latex": [
       "\\begin{center}\n",
       "\\begin{tabular}{lclc}\n",
       "\\toprule\n",
       "\\textbf{Dep. Variable:}    &  participation   & \\textbf{  No. Observations:  } &      872    \\\\\n",
       "\\textbf{Model:}            &      Logit       & \\textbf{  Df Residuals:      } &      864    \\\\\n",
       "\\textbf{Method:}           &       MLE        & \\textbf{  Df Model:          } &        7    \\\\\n",
       "\\textbf{Date:}             & Wed, 13 Nov 2024 & \\textbf{  Pseudo R-squ.:     } &   0.1539    \\\\\n",
       "\\textbf{Time:}             &     17:00:24     & \\textbf{  Log-Likelihood:    } &   -509.03   \\\\\n",
       "\\textbf{converged:}        &       True       & \\textbf{  LL-Null:           } &   -601.61   \\\\\n",
       "\\textbf{Covariance Type:}  &    nonrobust     & \\textbf{  LLR p-value:       } & 1.579e-36   \\\\\n",
       "\\bottomrule\n",
       "\\end{tabular}\n",
       "\\begin{tabular}{lcccccc}\n",
       "                           & \\textbf{coef} & \\textbf{std err} & \\textbf{z} & \\textbf{P$> |$z$|$} & \\textbf{[0.025} & \\textbf{0.975]}  \\\\\n",
       "\\midrule\n",
       "\\textbf{Intercept}         &      -9.4763  &       17.245     &    -0.549  &         0.583        &      -43.277    &       24.324     \\\\\n",
       "\\textbf{foreign[T.yes]}    &       1.0728  &        0.187     &     5.737  &         0.000        &        0.706    &        1.439     \\\\\n",
       "\\textbf{income}            &       1.8753  &        3.266     &     0.574  &         0.566        &       -4.526    &        8.277     \\\\\n",
       "\\textbf{np.square(income)} &      -0.1377  &        0.155     &    -0.887  &         0.375        &       -0.442    &        0.166     \\\\\n",
       "\\textbf{age}               &       3.4025  &        0.687     &     4.955  &         0.000        &        2.057    &        4.748     \\\\\n",
       "\\textbf{np.square(age)}    &      -0.4846  &        0.085     &    -5.692  &         0.000        &       -0.651    &       -0.318     \\\\\n",
       "\\textbf{youngkids}         &      -1.1813  &        0.172     &    -6.858  &         0.000        &       -1.519    &       -0.844     \\\\\n",
       "\\textbf{oldkids}           &      -0.2471  &        0.084     &    -2.932  &         0.003        &       -0.412    &       -0.082     \\\\\n",
       "\\bottomrule\n",
       "\\end{tabular}\n",
       "%\\caption{Logit Regression Results}\n",
       "\\end{center}"
      ],
      "text/plain": [
       "<class 'statsmodels.iolib.summary.Summary'>\n",
       "\"\"\"\n",
       "                           Logit Regression Results                           \n",
       "==============================================================================\n",
       "Dep. Variable:          participation   No. Observations:                  872\n",
       "Model:                          Logit   Df Residuals:                      864\n",
       "Method:                           MLE   Df Model:                            7\n",
       "Date:                Wed, 13 Nov 2024   Pseudo R-squ.:                  0.1539\n",
       "Time:                        17:00:24   Log-Likelihood:                -509.03\n",
       "converged:                       True   LL-Null:                       -601.61\n",
       "Covariance Type:            nonrobust   LLR p-value:                 1.579e-36\n",
       "=====================================================================================\n",
       "                        coef    std err          z      P>|z|      [0.025      0.975]\n",
       "-------------------------------------------------------------------------------------\n",
       "Intercept            -9.4763     17.245     -0.549      0.583     -43.277      24.324\n",
       "foreign[T.yes]        1.0728      0.187      5.737      0.000       0.706       1.439\n",
       "income                1.8753      3.266      0.574      0.566      -4.526       8.277\n",
       "np.square(income)    -0.1377      0.155     -0.887      0.375      -0.442       0.166\n",
       "age                   3.4025      0.687      4.955      0.000       2.057       4.748\n",
       "np.square(age)       -0.4846      0.085     -5.692      0.000      -0.651      -0.318\n",
       "youngkids            -1.1813      0.172     -6.858      0.000      -1.519      -0.844\n",
       "oldkids              -0.2471      0.084     -2.932      0.003      -0.412      -0.082\n",
       "=====================================================================================\n",
       "\"\"\""
      ]
     },
     "execution_count": 56,
     "metadata": {},
     "output_type": "execute_result"
    }
   ],
   "source": [
    "res.summary()"
   ]
  },
  {
   "cell_type": "markdown",
   "id": "ce3d60a0-107f-47f5-a334-24ace0143a3c",
   "metadata": {},
   "source": [
    "**6.1.1**"
   ]
  },
  {
   "cell_type": "code",
   "execution_count": 58,
   "id": "f4cf3f3f-8c90-43a7-9993-489893972f6f",
   "metadata": {},
   "outputs": [
    {
     "data": {
      "text/plain": [
       "(array([[24.4405]]), 0.0, 2.0)"
      ]
     },
     "execution_count": 58,
     "metadata": {},
     "output_type": "execute_result"
    }
   ],
   "source": [
    "wald_res = res.wald_test('income=0, np.square(income)=0', use_f=False)\n",
    "wald_res.statistic.round(4), wald_res.pvalue.round(4), wald_res.df_denom"
   ]
  },
  {
   "cell_type": "markdown",
   "id": "cc469ac9-d189-44eb-94ab-6c75cbca77d6",
   "metadata": {},
   "source": [
    "влияние дохода значима(p-value меньше 0.05)"
   ]
  },
  {
   "cell_type": "code",
   "execution_count": 60,
   "id": "a5c63000-5098-4994-bd1e-275a352df679",
   "metadata": {},
   "outputs": [
    {
     "name": "stdout",
     "output_type": "stream",
     "text": [
      "Критическое значение -  5.991\n"
     ]
    }
   ],
   "source": [
    "#критическое значение\n",
    "sign_level = 0.05\n",
    "print('Критическое значение - ',chi2.isf(q=sign_level, df=wald_res.df_denom).round(3))"
   ]
  },
  {
   "cell_type": "markdown",
   "id": "aa172bbb-56ac-4493-a4e4-af1bdbc13b73",
   "metadata": {},
   "source": [
    "**6.1.2** - количество детей не влияет"
   ]
  },
  {
   "cell_type": "code",
   "execution_count": 62,
   "id": "306fd66a-769e-41e9-b062-a737dc898d06",
   "metadata": {},
   "outputs": [
    {
     "data": {
      "text/plain": [
       "(array([[48.4202]]), 0.0, 2.0)"
      ]
     },
     "execution_count": 62,
     "metadata": {},
     "output_type": "execute_result"
    }
   ],
   "source": [
    "wald_res = res.wald_test('youngkids=0, oldkids=0', use_f=False)\n",
    "wald_res.statistic.round(4), wald_res.pvalue.round(4), wald_res.df_denom"
   ]
  },
  {
   "cell_type": "code",
   "execution_count": 63,
   "id": "995e9095-a882-46c6-a90b-cd40bd352794",
   "metadata": {},
   "outputs": [
    {
     "name": "stdout",
     "output_type": "stream",
     "text": [
      "Критическое значение -  5.991\n"
     ]
    }
   ],
   "source": [
    "#критическое значение\n",
    "sign_level = 0.05\n",
    "print('Критическое значение - ',chi2.isf(q=sign_level, df=wald_res.df_denom).round(3))"
   ]
  },
  {
   "cell_type": "markdown",
   "id": "2ef1f7d3-c07e-4dee-ac6c-3ba500b55773",
   "metadata": {},
   "source": [
    "***LR-тест: значимость регрессии***"
   ]
  },
  {
   "cell_type": "code",
   "execution_count": 65,
   "id": "9e4bd506-e6a4-4148-a3b6-416ab063a5cd",
   "metadata": {},
   "outputs": [
    {
     "ename": "SyntaxError",
     "evalue": "expected argument value expression (3636415283.py, line 3)",
     "output_type": "error",
     "traceback": [
      "\u001b[1;36m  Cell \u001b[1;32mIn[65], line 3\u001b[1;36m\u001b[0m\n\u001b[1;33m    mod_r = logit(formula = , data = df_mod)\u001b[0m\n\u001b[1;37m                  ^\u001b[0m\n\u001b[1;31mSyntaxError\u001b[0m\u001b[1;31m:\u001b[0m expected argument value expression\n"
     ]
    }
   ],
   "source": [
    "# подгонка модели с ограничениями\n",
    "df_mod = df[['vars from model']].dropna()\n",
    "mod_r = logit(formula = , data = df_mod)\n",
    "# mod_r = smf.probit(formula = , data = df_mod)\n",
    "res_r = mod_r.fit() "
   ]
  }
 ],
 "metadata": {
  "kernelspec": {
   "display_name": "Python 3 (ipykernel)",
   "language": "python",
   "name": "python3"
  },
  "language_info": {
   "codemirror_mode": {
    "name": "ipython",
    "version": 3
   },
   "file_extension": ".py",
   "mimetype": "text/x-python",
   "name": "python",
   "nbconvert_exporter": "python",
   "pygments_lexer": "ipython3",
   "version": "3.12.4"
  }
 },
 "nbformat": 4,
 "nbformat_minor": 5
}
